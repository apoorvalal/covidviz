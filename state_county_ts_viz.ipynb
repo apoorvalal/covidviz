{
 "cells": [
  {
   "cell_type": "code",
   "execution_count": 1,
   "metadata": {},
   "outputs": [
    {
     "name": "stdout",
     "output_type": "stream",
     "text": [
      "     wants        loaded\n",
      "[1,] \"data.table\" TRUE  \n",
      "[2,] \"tidyverse\"  TRUE  \n",
      "[3,] \"anytime\"    TRUE  \n",
      "[4,] \"patchwork\"  TRUE  \n",
      "[5,] \"plotly\"     TRUE  \n",
      "[6,] \"lubridate\"  TRUE  \n",
      "[7,] \"zoo\"        TRUE  \n"
     ]
    }
   ],
   "source": [
    "rm(list = ls())\n",
    "library(LalRUtils)\n",
    "\n",
    "libreq(data.table, tidyverse, anytime, patchwork, plotly, lubridate, zoo)\n",
    "theme_set(lal_plot_theme())\n",
    "options(repr.plot.width = 15, repr.plot.height=12)"
   ]
  },
  {
   "cell_type": "markdown",
   "metadata": {},
   "source": [
    "# NYT county level time series\n",
    "https://github.com/nytimes/covid-19-data"
   ]
  },
  {
   "cell_type": "code",
   "execution_count": 2,
   "metadata": {
    "lines_to_next_cell": 0,
    "title": "check timestamp at https://github.com/nytimes/covid-19-data"
   },
   "outputs": [
    {
     "name": "stdout",
     "output_type": "stream",
     "text": [
      "Rows: 2,063,609\n",
      "Columns: 7\n",
      "$ date   \u001b[3m\u001b[90m<date>\u001b[39m\u001b[23m 2021-12-29, 2021-12-28, 2021-12-27, 2021-12-26, 2021-12-25, 20…\n",
      "$ county \u001b[3m\u001b[90m<chr>\u001b[39m\u001b[23m \"Autauga\", \"Autauga\", \"Autauga\", \"Autauga\", \"Autauga\", \"Autauga…\n",
      "$ state  \u001b[3m\u001b[90m<chr>\u001b[39m\u001b[23m \"Alabama\", \"Alabama\", \"Alabama\", \"Alabama\", \"Alabama\", \"Alabama…\n",
      "$ fips   \u001b[3m\u001b[90m<int>\u001b[39m\u001b[23m 1001, 1001, 1001, 1001, 1001, 1001, 1001, 1001, 1001, 1001, 100…\n",
      "$ cases  \u001b[3m\u001b[90m<int>\u001b[39m\u001b[23m 10886, 10828, 10800, 10789, 10785, 10758, 10746, 10711, 10692, …\n",
      "$ deaths \u001b[3m\u001b[90m<int>\u001b[39m\u001b[23m 160, 160, 160, 160, 160, 160, 160, 160, 160, 159, 159, 159, 159…\n",
      "$ d      \u001b[3m\u001b[90m<date>\u001b[39m\u001b[23m 2021-12-29, 2021-12-28, 2021-12-27, 2021-12-26, 2021-12-25, 20…\n"
     ]
    }
   ],
   "source": [
    "df = fread(\"https://raw.githubusercontent.com/nytimes/covid-19-data/master/us-counties.csv\")\n",
    "df[, d := anydate(date)]\n",
    "setorder(df, state, county, -date)\n",
    "df %>% glimpse"
   ]
  },
  {
   "cell_type": "code",
   "execution_count": null,
   "metadata": {
    "lines_to_next_cell": 0
   },
   "outputs": [],
   "source": [
    "df[,  `:=`(\n",
    "  cfr = deaths/cases,\n",
    "  new_cases  = cases - shift(cases),\n",
    "  new_deaths = deaths - shift(deaths)\n",
    "    ), by = .(state, county)]"
   ]
  },
  {
   "cell_type": "code",
   "execution_count": null,
   "metadata": {
    "lines_to_next_cell": 0
   },
   "outputs": [],
   "source": [
    "# clean up\n",
    "df[ ,`:=`(new_deaths = ifelse(new_deaths < 0, 0, new_deaths),\n",
    "          new_cases  = ifelse(new_cases < 0, 0, new_cases)\n",
    "              )]\n",
    "df = df[d >= \"2020-03-01\"]\n",
    "rawvars = c(\"cases\", \"deaths\", \"new_cases\", \"new_deaths\")"
   ]
  },
  {
   "cell_type": "code",
   "execution_count": null,
   "metadata": {},
   "outputs": [],
   "source": [
    "df[order(-date, -cases)][1:20]\n",
    "fwrite(df, 'data/nyt_county_level.csv.gz')"
   ]
  },
  {
   "cell_type": "markdown",
   "metadata": {},
   "source": [
    "### Rolling Mean Function"
   ]
  },
  {
   "cell_type": "code",
   "execution_count": null,
   "metadata": {},
   "outputs": [],
   "source": [
    "rollmeaneR = function(df,  smoothvars = rawvars, grouping = c(\"state\", \"county\"), sm_k = 5){\n",
    "    f = copy(df)\n",
    "    setorderv(f, cols = c(grouping, 'd'))\n",
    "    f[, paste0(\"rm\", \"_\", smoothvars) := lapply(.SD, rollmean, k = sm_k, fill = NA, na.pad = T),\n",
    "       by = grouping, .SDcols = smoothvars]\n",
    "    return(f)\n",
    "}"
   ]
  },
  {
   "cell_type": "markdown",
   "metadata": {},
   "source": [
    "# Nationwide"
   ]
  },
  {
   "cell_type": "code",
   "execution_count": null,
   "metadata": {
    "lines_to_next_cell": 0
   },
   "outputs": [],
   "source": [
    "options(warnings = -1)\n",
    "df = df[d >= \"2021-06-01\"]"
   ]
  },
  {
   "cell_type": "code",
   "execution_count": null,
   "metadata": {},
   "outputs": [],
   "source": [
    "npan = df[, lapply(.SD, sum, na.rm = T), by = .(d), .SDcols = rawvars]\n",
    "npan[, gr := 1]\n",
    "npan[, cfr := deaths/cases]\n",
    "npan = rollmeaneR(npan, c(rawvars, 'cfr'), grouping = \"gr\")\n",
    "npan[, day := weekdays(d)]\n",
    "npan[, weekend := ifelse(day %in% c(\"Saturday\", \"Sunday\"), 1, 0)]\n",
    "npan[order(-d)][1:5]"
   ]
  },
  {
   "cell_type": "code",
   "execution_count": null,
   "metadata": {},
   "outputs": [],
   "source": [
    "options(repr.plot.width = 20, repr.plot.height=16)\n",
    "p1 = ggplot(npan, aes(x = d, y = cases)) +\n",
    "  geom_line(size = 1.2) + geom_point()+\n",
    "  scale_y_log10() +\n",
    "  ggtitle(\"US: Cumulative Number of Cases\")\n",
    "\n",
    "p11 = ggplot(npan, aes(x = d, y = new_cases)) +\n",
    "#   geom_line(aes(y = rm_new_cases)) +\n",
    "    geom_smooth(se = F) +\n",
    "    geom_point(aes( colour = as.factor(weekend))) +\n",
    "    scale_y_log10() +\n",
    "    scale_colour_brewer(palette = \"Set1\") +\n",
    "    ggtitle(\"US: Number of New Cases\")\n",
    "\n",
    "p2 = ggplot(npan, aes(x = d, y = deaths)) +\n",
    "  geom_line(size = 1.2) + geom_point() +\n",
    "  scale_y_log10() +\n",
    "  ggtitle(\"US: Number of Deaths\")\n",
    "\n",
    "p22 = ggplot(npan, aes(x = d, y = new_deaths)) +\n",
    "#   geom_line(aes(y = rm_new_deaths)) +\n",
    "    geom_smooth(se = F) +\n",
    "    geom_point(aes(colour = as.factor(weekend))) +\n",
    "    scale_y_log10() +\n",
    "    scale_colour_brewer(palette = \"Set1\") +\n",
    "    ggtitle(\"US: Number of New Deaths\")\n",
    "\n",
    "options(repr.plot.width = 18, repr.plot.height=20)\n",
    "(p1 | p11) /( p2 | p22)"
   ]
  },
  {
   "cell_type": "code",
   "execution_count": null,
   "metadata": {},
   "outputs": [],
   "source": [
    "options(repr.plot.width = 10, repr.plot.height=8)\n",
    "nat_cfr = ggplot(npan[d>= \"2020-03-15\"], aes(x = d, y = cfr)) +\n",
    "  geom_line(aes(y = rm_cfr)) + geom_point()+\n",
    "  ggtitle(\"US: CFR\")"
   ]
  },
  {
   "cell_type": "markdown",
   "metadata": {},
   "source": [
    "## State Panel"
   ]
  },
  {
   "cell_type": "code",
   "execution_count": null,
   "metadata": {},
   "outputs": [],
   "source": [
    "stpan = df[, lapply(.SD, sum, na.rm = T), by = .(state, d), .SDcols = rawvars]\n",
    "(t10 = stpan[d == max(d)][order(-cases)][1:10])\n",
    "stpan[, cfr := deaths/cases]\n",
    "stpan = rollmeaneR(stpan, c(rawvars, 'cfr'), grouping = \"state\")"
   ]
  },
  {
   "cell_type": "code",
   "execution_count": null,
   "metadata": {},
   "outputs": [],
   "source": [
    "options(repr.plot.width = 20, repr.plot.height=16)\n",
    "p1 = ggplot(stpan[state %in% t10$state], aes(x = d, y = cases, group = state, colour = state)) +\n",
    "  geom_line(size = 1.2) +\n",
    "  scale_y_log10() +\n",
    "  scale_colour_brewer(palette = \"Spectral\") +\n",
    "  ggtitle(\"Cumulative Number of Cases in worst hit states\")\n",
    "\n",
    "p11 = ggplot(stpan[state %in% t10$state], aes(x = d, group = state, colour = state)) +\n",
    "  geom_point(aes(y = new_cases), size = 0.6, alpha = 0.6) +\n",
    "  geom_line(aes(y = rm_new_cases), size = 1.2, alpha = 0.6) +\n",
    "  scale_y_log10() +\n",
    "  scale_colour_brewer(palette = \"Spectral\") +\n",
    "  ggtitle(\"Number of New Cases in worst hit states\")\n",
    "\n",
    "p2 = ggplot(stpan[state %in% t10$state], aes(x = d, y = deaths, group = state, colour = state)) +\n",
    "  geom_line(size = 1.2) +\n",
    "  scale_y_log10() +\n",
    "  scale_colour_brewer(palette = \"Spectral\") +\n",
    "  ggtitle(\"Cumulative Number of Deaths in worst hit states\")\n",
    "\n",
    "p22 = ggplot(stpan[state %in% t10$state], aes(x = d, y = rm_new_deaths, group = state, colour = state)) +\n",
    "  geom_point(aes(y = new_deaths), size = 0.6, alpha = 0.6) +\n",
    "  geom_line(aes(y = rm_new_deaths), size = 1.2, alpha = 0.6) +\n",
    "  scale_y_log10() +\n",
    "  scale_colour_brewer(palette = \"Spectral\") +\n",
    "  ggtitle(\"Number of New Deaths in worst hit states\")\n",
    "\n",
    "options(repr.plot.width = 18, repr.plot.height=20)\n",
    "(p1 | p11) /( p2 | p22)"
   ]
  },
  {
   "cell_type": "code",
   "execution_count": null,
   "metadata": {},
   "outputs": [],
   "source": [
    "ggplotly(p11)"
   ]
  },
  {
   "cell_type": "markdown",
   "metadata": {},
   "source": [
    "## CA: Subregions"
   ]
  },
  {
   "cell_type": "code",
   "execution_count": null,
   "metadata": {},
   "outputs": [],
   "source": [
    "bay_counties = c(\n",
    "  \"San Francisco\", \"San Mateo\", \"Santa Clara\",\n",
    "  \"Alameda\", \"Contra Costa\", \"Marin\"\n",
    ")\n",
    "\n",
    "socal = c(\"Los Angeles\", \"Orange\", \"Ventura\", \"San Bernadino\", \"Riverside\",\n",
    "          \"Imperial\", \"Kern\", \"San Diego\", \"Santa Barbara\", \"San Luis Obispo\")\n",
    "\n",
    "ca_all = df[state == \"California\"]\n",
    "ca_all[, metro := case_when(\n",
    "    county %in% bay_counties ~ \"Bay\",\n",
    "    county %in% socal        ~ \"SoCal\",\n",
    "    TRUE                     ~ \"Elsewhere\")]\n",
    "vars = c(\"cases\", \"deaths\", \"new_cases\", \"new_deaths\")\n",
    "ca_div = ca_all[, lapply(.SD, sum, na.rm = T),\n",
    "   by = .(metro, d), .SDcols = vars]"
   ]
  },
  {
   "cell_type": "code",
   "execution_count": null,
   "metadata": {},
   "outputs": [],
   "source": [
    "ca_div = rollmeaneR(ca_div, smoothvars = vars, grouping = 'metro')"
   ]
  },
  {
   "cell_type": "code",
   "execution_count": null,
   "metadata": {},
   "outputs": [],
   "source": [
    "kvs = c(\"cases\", \"deaths\", \"new_cases\", \"new_deaths\", 'd')\n",
    "cur = ca_div[order(-d), .SD[1], by = metro, .SDcols = kvs]\n",
    "cur[, lapply(.SD, sum, na.rm = T), .SDcols = vars]"
   ]
  },
  {
   "cell_type": "code",
   "execution_count": null,
   "metadata": {},
   "outputs": [],
   "source": [
    "p1 = ggplot(ca_div, aes(x = d, y = cases, group = as.factor(metro), colour = as.factor(metro))) +\n",
    "    geom_line() + scale_y_log10()+\n",
    "  scale_colour_brewer(palette = 'Set1') +\n",
    "    ggtitle(\"Cumulative Cases in CA\")\n",
    "p2 = ggplot(ca_div, aes(x = d,  group = as.factor(metro), colour = as.factor(metro))) +\n",
    "  geom_line(aes(y = rm_new_cases)) +\n",
    "  geom_point(aes(y = new_cases)) +\n",
    "  scale_colour_brewer(palette = 'Set1') +\n",
    "    ggtitle(\"New Cases in CA\")\n",
    "p3 = ggplot(ca_div, aes(x = d, y = deaths, group = as.factor(metro), colour = as.factor(metro))) +\n",
    "  geom_line() +\n",
    "  scale_colour_brewer(palette = 'Set1') +\n",
    "    ggtitle(\"Cumulative Deaths in CA\")\n",
    "\n",
    "p4 = ggplot(ca_div, aes(x = d, y = rm_new_deaths, group = as.factor(metro), colour = as.factor(metro))) +\n",
    "  geom_line(aes(y = rm_new_deaths)) +\n",
    "  geom_point(aes(y = new_deaths)) +\n",
    "  scale_colour_brewer(palette = 'Set1') +\n",
    "    ggtitle(\"New Deaths in CA\")\n",
    "\n",
    "options(repr.plot.width = 18, repr.plot.height=20)\n",
    "(p1 | p2 ) / (p3 | p4)"
   ]
  },
  {
   "cell_type": "markdown",
   "metadata": {},
   "source": [
    "## Counties within the Bay Area"
   ]
  },
  {
   "cell_type": "code",
   "execution_count": null,
   "metadata": {},
   "outputs": [],
   "source": [
    "bayrea_mar = rollmeaneR(df[county %in% bay_counties & state == \"California\" & d>= \"2020-03-01\"])\n",
    "bayrea_mar[, cfr := deaths/cases]\n",
    "bayrea_mar[d == max(d)]"
   ]
  },
  {
   "cell_type": "markdown",
   "metadata": {},
   "source": [
    "### Cases"
   ]
  },
  {
   "cell_type": "code",
   "execution_count": null,
   "metadata": {},
   "outputs": [],
   "source": [
    "p1 = ggplot(bayrea_mar, aes(x = d, y = cases, group = county, colour = county)) +\n",
    "  geom_line(size = 1) +\n",
    "  scale_y_log10() +\n",
    "  scale_colour_brewer(palette = 'Spectral') +\n",
    "  ggtitle(\"Cumulative Number of Cases in the Bay Area\")\n",
    "\n",
    "p2 = ggplot(bayrea_mar, aes(x = d, y = new_cases, group = county, colour = county)) +\n",
    "  geom_point(size = 1) +\n",
    "    geom_smooth(se = F) +\n",
    "    scale_colour_brewer(palette = 'Spectral') +\n",
    "    ggtitle(\"Number of New Cases in the Bay Area\")\n",
    "options(repr.plot.width = 18, repr.plot.height=12)\n",
    "(p1 | p2)"
   ]
  },
  {
   "cell_type": "code",
   "execution_count": null,
   "metadata": {},
   "outputs": [],
   "source": [
    "p1 = ggplot(bayrea_mar, aes(x = d, y = deaths, group = county, colour = county)) +\n",
    "  geom_line(size = 1) +\n",
    "  scale_colour_brewer(palette = 'Spectral') +\n",
    "  ggtitle(\"Cumulative Number of Deaths in the Bay Area\")\n",
    "p2 = ggplot(bayrea_mar, aes(x = d, y = new_deaths, group = county, colour = county)) +\n",
    "  geom_point(aes(y = new_deaths), size = 1) +\n",
    "#   geom_line(size = 1) +\n",
    "  geom_smooth(se = F) +\n",
    "  scale_colour_brewer(palette = 'Spectral') +\n",
    "  ggtitle(\"Number of New Deaths in the Bay Area\")\n",
    "(p1 | p2)"
   ]
  }
 ],
 "metadata": {
  "jupytext": {
   "formats": "ipynb,R:hydrogen"
  },
  "kernelspec": {
   "display_name": "R",
   "language": "R",
   "name": "ir"
  },
  "language_info": {
   "codemirror_mode": "r",
   "file_extension": ".r",
   "mimetype": "text/x-r-source",
   "name": "R",
   "pygments_lexer": "r",
   "version": "4.1.1"
  },
  "latex_envs": {
   "LaTeX_envs_menu_present": true,
   "autoclose": false,
   "autocomplete": true,
   "bibliofile": "biblio.bib",
   "cite_by": "apalike",
   "current_citInitial": 1,
   "eqLabelWithNumbers": true,
   "eqNumInitial": 1,
   "hotkeys": {
    "equation": "Ctrl-E",
    "itemize": "Ctrl-I"
   },
   "labels_anchors": false,
   "latex_user_defs": false,
   "report_style_numbering": false,
   "user_envs_cfg": false
  },
  "toc": {
   "base_numbering": 1,
   "nav_menu": {},
   "number_sections": true,
   "sideBar": true,
   "skip_h1_title": false,
   "title_cell": "Table of Contents",
   "title_sidebar": "Contents",
   "toc_cell": false,
   "toc_position": {},
   "toc_section_display": true,
   "toc_window_display": false
  }
 },
 "nbformat": 4,
 "nbformat_minor": 4
}
